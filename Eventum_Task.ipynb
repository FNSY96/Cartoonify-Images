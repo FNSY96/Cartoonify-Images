{
  "nbformat": 4,
  "nbformat_minor": 0,
  "metadata": {
    "colab": {
      "name": "Eventum_Task.ipynb",
      "version": "0.3.2",
      "provenance": [],
      "collapsed_sections": [
        "g8tRlHd2Yafm",
        "UOeilmHIROaK",
        "yBSZ1H0wRTpl"
      ],
      "include_colab_link": true
    },
    "kernelspec": {
      "name": "python3",
      "display_name": "Python 3"
    }
  },
  "cells": [
    {
      "cell_type": "markdown",
      "metadata": {
        "id": "view-in-github",
        "colab_type": "text"
      },
      "source": [
        "<a href=\"https://colab.research.google.com/github/FNSY96/Cartoonify-Images/blob/master/Eventum_Task.ipynb\" target=\"_parent\"><img src=\"https://colab.research.google.com/assets/colab-badge.svg\" alt=\"Open In Colab\"/></a>"
      ]
    },
    {
      "cell_type": "markdown",
      "metadata": {
        "id": "p07wmbfhPAy6",
        "colab_type": "text"
      },
      "source": [
        "**EVENTUM TASK**"
      ]
    },
    {
      "cell_type": "markdown",
      "metadata": {
        "id": "g8tRlHd2Yafm",
        "colab_type": "text"
      },
      "source": [
        "### Imports"
      ]
    },
    {
      "cell_type": "code",
      "metadata": {
        "id": "W71h7MQMBQld",
        "colab_type": "code",
        "outputId": "81e34bd5-1dc2-46a8-f0e7-71d12e3d0f0c",
        "colab": {
          "base_uri": "https://localhost:8080/",
          "height": 102
        }
      },
      "source": [
        "!pip3 install pandas\n",
        "!pip install -U -q PyDrive"
      ],
      "execution_count": 144,
      "outputs": [
        {
          "output_type": "stream",
          "text": [
            "Requirement already satisfied: pandas in /usr/local/lib/python3.6/dist-packages (0.24.2)\n",
            "Requirement already satisfied: numpy>=1.12.0 in /usr/local/lib/python3.6/dist-packages (from pandas) (1.16.4)\n",
            "Requirement already satisfied: pytz>=2011k in /usr/local/lib/python3.6/dist-packages (from pandas) (2018.9)\n",
            "Requirement already satisfied: python-dateutil>=2.5.0 in /usr/local/lib/python3.6/dist-packages (from pandas) (2.5.3)\n",
            "Requirement already satisfied: six>=1.5 in /usr/local/lib/python3.6/dist-packages (from python-dateutil>=2.5.0->pandas) (1.12.0)\n"
          ],
          "name": "stdout"
        }
      ]
    },
    {
      "cell_type": "code",
      "metadata": {
        "id": "p40kVnjk2oAv",
        "colab_type": "code",
        "colab": {}
      },
      "source": [
        "import csv\n",
        "import glob\n",
        "import os\n",
        "import io"
      ],
      "execution_count": 0,
      "outputs": []
    },
    {
      "cell_type": "code",
      "metadata": {
        "id": "5ik7HmiN2_qC",
        "colab_type": "code",
        "colab": {}
      },
      "source": [
        "from google.colab import drive\n",
        "from pydrive.auth import GoogleAuth\n",
        "from pydrive.drive import GoogleDrive\n",
        "from google.colab import auth\n",
        "from oauth2client.client import GoogleCredentials\n",
        "from google.colab import files"
      ],
      "execution_count": 0,
      "outputs": []
    },
    {
      "cell_type": "code",
      "metadata": {
        "id": "PzOrFRM5Bw06",
        "colab_type": "code",
        "colab": {}
      },
      "source": [
        "import csv\n",
        "import glob\n",
        "import os\n",
        "import io\n",
        "import pandas as pd\n",
        "import numpy as np"
      ],
      "execution_count": 0,
      "outputs": []
    },
    {
      "cell_type": "code",
      "metadata": {
        "id": "-aFXmIu7O-qn",
        "colab_type": "code",
        "colab": {}
      },
      "source": [
        "import pandas as pd\n",
        "import matplotlib.pyplot as plt\n",
        "import numpy as np\n",
        "from pandas.plotting import scatter_matrix\n",
        "import seaborn as sns\n",
        "import statistics\n",
        "from dateutil import parser"
      ],
      "execution_count": 0,
      "outputs": []
    },
    {
      "cell_type": "code",
      "metadata": {
        "id": "mwYAYXnkLziA",
        "colab_type": "code",
        "colab": {}
      },
      "source": [
        "from sklearn.decomposition import PCA\n",
        "from sklearn import preprocessing"
      ],
      "execution_count": 0,
      "outputs": []
    },
    {
      "cell_type": "code",
      "metadata": {
        "id": "CaIFh7QmIrxm",
        "colab_type": "code",
        "colab": {}
      },
      "source": [
        "from sklearn import tree\n",
        "from sklearn.neighbors import KNeighborsClassifier\n",
        "from sklearn.preprocessing import StandardScaler"
      ],
      "execution_count": 0,
      "outputs": []
    },
    {
      "cell_type": "code",
      "metadata": {
        "id": "ZIqB0aza3FJZ",
        "colab_type": "code",
        "outputId": "6251147c-3306-4691-bb50-96bca022f0fd",
        "colab": {
          "base_uri": "https://localhost:8080/",
          "height": 34
        }
      },
      "source": [
        "auth.authenticate_user()\n",
        "gauth = GoogleAuth()\n",
        "gauth.credentials = GoogleCredentials.get_application_default()\n",
        "\n",
        "drive.mount(\"/content/drive\", force_remount = True)\n",
        "datadir  = 'drive/My Drive/Colab Notebooks/airbnb'"
      ],
      "execution_count": 151,
      "outputs": [
        {
          "output_type": "stream",
          "text": [
            "Mounted at /content/drive\n"
          ],
          "name": "stdout"
        }
      ]
    },
    {
      "cell_type": "markdown",
      "metadata": {
        "id": "w4nH4XWQQkyE",
        "colab_type": "text"
      },
      "source": [
        "### Funcitons"
      ]
    },
    {
      "cell_type": "code",
      "metadata": {
        "id": "54eL4VOOQj9U",
        "colab_type": "code",
        "colab": {}
      },
      "source": [
        "def adjust_age(dataframe):\n",
        "  temp = dataframe['age'] > 1000\n",
        "  dataframe.loc[temp, 'age'] = 2015 - dataframe.loc[temp, 'age']"
      ],
      "execution_count": 0,
      "outputs": []
    },
    {
      "cell_type": "code",
      "metadata": {
        "id": "OP0zsmnfWcu4",
        "colab_type": "code",
        "colab": {}
      },
      "source": [
        "# def is_categorical(array_like):\n",
        "#     return array_like.dtype.name == 'category'"
      ],
      "execution_count": 0,
      "outputs": []
    },
    {
      "cell_type": "code",
      "metadata": {
        "id": "GWhjaLz9Yav7",
        "colab_type": "code",
        "colab": {}
      },
      "source": [
        "def replace_nan(dataframe):\n",
        "  dataframe.gender.replace('-unknown-',np.nan, inplace=True)\n",
        "  dataframe.age.replace('NaN', np.nan, inplace=True)\n",
        "  dataframe['age'].fillna(0, inplace=True)\n",
        "#   dataframe['age'].fillna((train['age'].mean()), inplace=True)\n",
        "  dataframe['gender'].fillna('FEMALE', inplace=True)\n",
        "  dataframe['first_affiliate_tracked'].fillna((train_final['first_affiliate_tracked'].mode()[0]), inplace=True)\n",
        "  return dataframe"
      ],
      "execution_count": 0,
      "outputs": []
    },
    {
      "cell_type": "code",
      "metadata": {
        "id": "7EJ3brxJ8YmF",
        "colab_type": "code",
        "colab": {}
      },
      "source": [
        "# from sklearn.preprocessing import OneHotEncoder\n",
        "# enc = OneHotEncoder(handle_unknown='ignore')\n",
        "# X = [['Male', 1], ['Female', 3], ['Female', 2]]\n",
        "# enc.fit(X)\n",
        "# print(enc.categories_)"
      ],
      "execution_count": 0,
      "outputs": []
    },
    {
      "cell_type": "code",
      "metadata": {
        "id": "yFQbwYK9Sdkf",
        "colab_type": "code",
        "colab": {}
      },
      "source": [
        "# convert categorical attributes to numerical\n",
        "def convert_categorical(dataframe, string_attributes):\n",
        "  label_encoder = preprocessing.LabelEncoder()\n",
        "  \n",
        "  for i in range(len(string_attributes)):\n",
        "    attribute_name = string_attributes[i]\n",
        "    attribute_list = dataframe[attribute_name]\n",
        "    attribute_encoded = label_encoder.fit_transform(attribute_list)\n",
        "    \n",
        "    value_zipped_encoded_list = list(zip(attribute_list,attribute_encoded))\n",
        "    value_zipped_encoded_df = pd.DataFrame(value_zipped_encoded_list)\n",
        "    modified_attribute_name = attribute_name + '_converted'\n",
        "    value_zipped_encoded_df.columns = [attribute_name, modified_attribute_name]\n",
        "    zipped_df = pd.DataFrame(value_zipped_encoded_df)\n",
        "   \n",
        "    dataframe.reset_index(drop=True, inplace=True)\n",
        "    zipped_df.reset_index(drop=True, inplace=True)\n",
        "    dataframe = pd.concat([dataframe, zipped_df], axis = 1)\n",
        "\n",
        "  return dataframe.drop(string_attributes, axis=1)\n"
      ],
      "execution_count": 0,
      "outputs": []
    },
    {
      "cell_type": "code",
      "metadata": {
        "id": "-OoZBv5d_q6p",
        "colab_type": "code",
        "colab": {}
      },
      "source": [
        "def split_date_account_created(original, encoded):\n",
        "  year_account_created = list()\n",
        "  month_account_created = list()\n",
        "  for i in range(original.shape[0]):\n",
        "    year_account_created.append(parser.parse(original['date_account_created'][i]).year)\n",
        "    month_account_created.append(parser.parse(original['date_account_created'][i]).month)\n",
        "    \n",
        "  year_account_created = pd.DataFrame({'col':year_account_created})\n",
        "  year_account_created.columns = ['year_account_created']\n",
        "  \n",
        "  month_account_created = pd.DataFrame({'col':month_account_created})\n",
        "  month_account_created.columns = ['month_account_created']\n",
        "  \n",
        "  encoded = encoded.drop(['date_account_created'], axis=1)\n",
        "  encoded = pd.concat([encoded, year_account_created, month_account_created], axis = 1)\n",
        "  return encoded"
      ],
      "execution_count": 0,
      "outputs": []
    },
    {
      "cell_type": "markdown",
      "metadata": {
        "id": "UOeilmHIROaK",
        "colab_type": "text"
      },
      "source": [
        "## Dataframes"
      ]
    },
    {
      "cell_type": "code",
      "metadata": {
        "id": "LZsioIKw3cla",
        "colab_type": "code",
        "colab": {}
      },
      "source": [
        "train = pd.read_csv(os.path.join(datadir, 'train_users_2.csv'), encoding = 'latin-1')\n",
        "test = pd.read_csv(os.path.join(datadir, 'test_users.csv'), encoding = 'latin-1')\n",
        "countries = pd.read_csv(os.path.join(datadir, 'countries.csv'), encoding = 'latin-1')\n",
        "age_gender = pd.read_csv(os.path.join(datadir, 'age_gender_bkts.csv'), encoding = 'latin-1')\n",
        "sessions = pd.read_csv(os.path.join(datadir, 'sessions.csv'), encoding = 'latin-1')"
      ],
      "execution_count": 0,
      "outputs": []
    },
    {
      "cell_type": "code",
      "metadata": {
        "id": "CzYtF0A0RW5U",
        "colab_type": "code",
        "colab": {}
      },
      "source": [
        "adjust_age(train)\n",
        "adjust_age(test)"
      ],
      "execution_count": 0,
      "outputs": []
    },
    {
      "cell_type": "code",
      "metadata": {
        "id": "hCkVOO3oif0y",
        "colab_type": "code",
        "colab": {}
      },
      "source": [
        "booked_users = train.dropna(subset=['date_first_booking'])"
      ],
      "execution_count": 0,
      "outputs": []
    },
    {
      "cell_type": "code",
      "metadata": {
        "id": "tgRiv1dsy_LA",
        "colab_type": "code",
        "colab": {}
      },
      "source": [
        "year_account_created = list()\n",
        "for i in range(train.shape[0]):\n",
        "  year_account_created.append(parser.parse(train['date_account_created'][i]).year)\n",
        "year_account_created = pd.DataFrame({'col':year_account_created})\n",
        "year_account_created.columns = ['date_account_created']\n",
        "year_account_created = year_account_created.sort_values(by='date_account_created', ascending=True)"
      ],
      "execution_count": 0,
      "outputs": []
    },
    {
      "cell_type": "markdown",
      "metadata": {
        "id": "zZhu7-4nStKm",
        "colab_type": "text"
      },
      "source": [
        "### ٍRemove this subsection"
      ]
    },
    {
      "cell_type": "code",
      "metadata": {
        "id": "CkMdXOuJsyru",
        "colab_type": "code",
        "colab": {}
      },
      "source": [
        "# train_sessions_merged = pd.merge(train, sessions, how='inner',left_on = 'id', right_on = 'user_id')\n",
        "# train_sessions_merged = train_sessions_merged[['device_type', 'secs_elapsed']]\n",
        "# train_sessions_merged = train_sessions_merged.groupby('id')"
      ],
      "execution_count": 0,
      "outputs": []
    },
    {
      "cell_type": "code",
      "metadata": {
        "id": "yJzjTvsnyNOD",
        "colab_type": "code",
        "colab": {}
      },
      "source": [
        "# train_sessions_merged = train_sessions_merged.to_frame()"
      ],
      "execution_count": 0,
      "outputs": []
    },
    {
      "cell_type": "code",
      "metadata": {
        "id": "hD4XtE8VvrMF",
        "colab_type": "code",
        "colab": {}
      },
      "source": [
        "# print(train_sessions_merged['id'])"
      ],
      "execution_count": 0,
      "outputs": []
    },
    {
      "cell_type": "code",
      "metadata": {
        "id": "914vZ1Xiv3wn",
        "colab_type": "code",
        "colab": {}
      },
      "source": [
        "# x = train.drop_duplicates(subset='id', keep='first')\n",
        "# print(x.shape)"
      ],
      "execution_count": 0,
      "outputs": []
    },
    {
      "cell_type": "code",
      "metadata": {
        "id": "frST0z7zBzpA",
        "colab_type": "code",
        "outputId": "dacf3078-6c6f-4ef0-bcd5-8f83297e52f4",
        "colab": {
          "base_uri": "https://localhost:8080/",
          "height": 0
        }
      },
      "source": [
        "print(countries.columns)\n",
        "print(age_gender.columns)"
      ],
      "execution_count": 250,
      "outputs": [
        {
          "output_type": "stream",
          "text": [
            "Index(['country_destination', 'lat_destination', 'lng_destination',\n",
            "       'distance_km', 'destination_km2', 'destination_language ',\n",
            "       'language_levenshtein_distance'],\n",
            "      dtype='object')\n",
            "Index(['age_bucket', 'country_destination', 'gender',\n",
            "       'population_in_thousands', 'year'],\n",
            "      dtype='object')\n"
          ],
          "name": "stdout"
        }
      ]
    },
    {
      "cell_type": "code",
      "metadata": {
        "id": "UrWC1BVSHkSU",
        "colab_type": "code",
        "outputId": "9a26975e-4161-4b6e-8445-5d6ee24a51af",
        "colab": {
          "base_uri": "https://localhost:8080/",
          "height": 0
        }
      },
      "source": [
        "print(age_gender.head())"
      ],
      "execution_count": 251,
      "outputs": [
        {
          "output_type": "stream",
          "text": [
            "  age_bucket country_destination gender  population_in_thousands    year\n",
            "0       100+                  AU   male                      1.0  2015.0\n",
            "1      95-99                  AU   male                      9.0  2015.0\n",
            "2      90-94                  AU   male                     47.0  2015.0\n",
            "3      85-89                  AU   male                    118.0  2015.0\n",
            "4      80-84                  AU   male                    199.0  2015.0\n"
          ],
          "name": "stdout"
        }
      ]
    },
    {
      "cell_type": "markdown",
      "metadata": {
        "id": "yBSZ1H0wRTpl",
        "colab_type": "text"
      },
      "source": [
        "## Charts and Plots"
      ]
    },
    {
      "cell_type": "markdown",
      "metadata": {
        "id": "AdBb2533WwG6",
        "colab_type": "text"
      },
      "source": [
        "### [Histogram] of Users' Ages"
      ]
    },
    {
      "cell_type": "code",
      "metadata": {
        "id": "-0fXlyY9FFzm",
        "colab_type": "code",
        "outputId": "6cc6b60b-ca4f-4a1a-ff93-c7d9439d150a",
        "colab": {
          "base_uri": "https://localhost:8080/",
          "height": 0
        }
      },
      "source": [
        "att = 'age'\n",
        "ax = train[att].hist(bins=20, grid=False,edgecolor='black', figsize=(15,8))\n",
        "ax.set_xlabel(att, labelpad=10, size=12)\n",
        "ax.set_ylabel(\"count\", labelpad=10, size=12)"
      ],
      "execution_count": 252,
      "outputs": [
        {
          "output_type": "execute_result",
          "data": {
            "text/plain": [
              "Text(0, 0.5, 'count')"
            ]
          },
          "metadata": {
            "tags": []
          },
          "execution_count": 252
        },
        {
          "output_type": "display_data",
          "data": {
            "image/png": "[encoded data removed]",
            "text/plain": [
              "<Figure size 1080x576 with 1 Axes>"
            ]
          },
          "metadata": {
            "tags": []
          }
        }
      ]
    },
    {
      "cell_type": "markdown",
      "metadata": {
        "id": "Fhpql0PJW8ck",
        "colab_type": "text"
      },
      "source": [
        "### [Bar Plot] of Users' Genders"
      ]
    },
    {
      "cell_type": "code",
      "metadata": {
        "id": "PvqOpHViY6gh",
        "colab_type": "code",
        "outputId": "6fd8f8f2-ff12-4426-8084-3a82a6f55f1f",
        "colab": {
          "base_uri": "https://localhost:8080/",
          "height": 0
        }
      },
      "source": [
        "att = 'gender'\n",
        "ax = train[att].value_counts().plot.bar()"
      ],
      "execution_count": 253,
      "outputs": [
        {
          "output_type": "display_data",
          "data": {
            "image/png": "[encoded data removed]",
            "text/plain": [
              "<Figure size 432x288 with 1 Axes>"
            ]
          },
          "metadata": {
            "tags": []
          }
        }
      ]
    },
    {
      "cell_type": "markdown",
      "metadata": {
        "id": "VYVwtpeEXC56",
        "colab_type": "text"
      },
      "source": [
        "### [Bar Plot] of Languages Spoken by the Users\n",
        "We can notice that users speaking English form the vast majority, this is logical since this data is for USA users."
      ]
    },
    {
      "cell_type": "code",
      "metadata": {
        "id": "j8IyqxpQqPay",
        "colab_type": "code",
        "outputId": "ed68757e-1cf8-4d28-f3fb-fb8e269a7e22",
        "colab": {
          "base_uri": "https://localhost:8080/",
          "height": 0
        }
      },
      "source": [
        "att = 'language'\n",
        "ax = train[train[att] != 'en'][att].value_counts().plot.bar()"
      ],
      "execution_count": 254,
      "outputs": [
        {
          "output_type": "display_data",
          "data": {
            "image/png": "[encoded data removed]",
            "text/plain": [
              "<Figure size 432x288 with 1 Axes>"
            ]
          },
          "metadata": {
            "tags": []
          }
        }
      ]
    },
    {
      "cell_type": "code",
      "metadata": {
        "id": "rYXo4K3GqwA5",
        "colab_type": "code",
        "outputId": "b895007b-2f72-4d44-9f05-052ff51c3489",
        "colab": {
          "base_uri": "https://localhost:8080/",
          "height": 0
        }
      },
      "source": [
        "att = 'language'\n",
        "ax = train[train[att] == 'en'][att].value_counts().plot.bar()\n",
        "# ax = train[att].value_counts().plot.bar()"
      ],
      "execution_count": 255,
      "outputs": [
        {
          "output_type": "display_data",
          "data": {
            "image/png": "[encoded data removed]",
            "text/plain": [
              "<Figure size 432x288 with 1 Axes>"
            ]
          },
          "metadata": {
            "tags": []
          }
        }
      ]
    },
    {
      "cell_type": "markdown",
      "metadata": {
        "id": "p2AND11wXYp9",
        "colab_type": "text"
      },
      "source": [
        "### [Box Plot] for the Users' Ages\n",
        "This box plot shows that the median of the ages is 34 years, which is a good age for travelling."
      ]
    },
    {
      "cell_type": "code",
      "metadata": {
        "id": "R11O_MWtXI7_",
        "colab_type": "code",
        "outputId": "8ec3a135-8415-464a-eb9e-26cc04db63f5",
        "colab": {
          "base_uri": "https://localhost:8080/",
          "height": 0
        }
      },
      "source": [
        "df = train['age']\n",
        "ax = df.plot(kind='box', figsize=(7,8))\n",
        "ax.text(1, df.median(), df.median(), horizontalalignment='center', size='small', color='b', weight='bold')"
      ],
      "execution_count": 256,
      "outputs": [
        {
          "output_type": "execute_result",
          "data": {
            "text/plain": [
              "Text(1, 34.0, '34.0')"
            ]
          },
          "metadata": {
            "tags": []
          },
          "execution_count": 256
        },
        {
          "output_type": "display_data",
          "data": {
            "image/png": "[encoded data removed]",
            "text/plain": [
              "<Figure size 504x576 with 1 Axes>"
            ]
          },
          "metadata": {
            "tags": []
          }
        }
      ]
    },
    {
      "cell_type": "markdown",
      "metadata": {
        "id": "EmsSef_YY8k0",
        "colab_type": "text"
      },
      "source": [
        "### [Bar Plot] for the Destination Country Selected by Users\n",
        "We can notice that most of the users have registerd but did not go anywhere as the NDF is the max by about 120000 of ~ 215,000 tuples.\n",
        "In case we have a bar plot for the users who booked a at least 1 booking, we can notice that most bookings are internal (i.e. inside the US) while the 2nd highest percentage will go to the \"OTHER\" label, this gives a good intituion about the predictions in the 2nd part."
      ]
    },
    {
      "cell_type": "code",
      "metadata": {
        "id": "u8AQzvcr8mxj",
        "colab_type": "code",
        "outputId": "2172aba5-612e-4c82-8003-7289e134bf5f",
        "colab": {
          "base_uri": "https://localhost:8080/",
          "height": 0
        }
      },
      "source": [
        "train['country_destination'].value_counts().plot(kind='bar')\n",
        "plt.xlabel('country_destination')\n",
        "plt.ylabel('count')"
      ],
      "execution_count": 257,
      "outputs": [
        {
          "output_type": "execute_result",
          "data": {
            "text/plain": [
              "Text(0, 0.5, 'count')"
            ]
          },
          "metadata": {
            "tags": []
          },
          "execution_count": 257
        },
        {
          "output_type": "display_data",
          "data": {
            "image/png": "[encoded data removed]",
            "text/plain": [
              "<Figure size 432x288 with 1 Axes>"
            ]
          },
          "metadata": {
            "tags": []
          }
        }
      ]
    },
    {
      "cell_type": "code",
      "metadata": {
        "id": "Yf5fK3n_j7TP",
        "colab_type": "code",
        "outputId": "c5852e45-a45c-456d-8e46-a74c087fa53e",
        "colab": {
          "base_uri": "https://localhost:8080/",
          "height": 0
        }
      },
      "source": [
        "booked_users['country_destination'].value_counts().plot(kind='bar')\n",
        "plt.xlabel('country_destination')\n",
        "plt.ylabel('count')"
      ],
      "execution_count": 258,
      "outputs": [
        {
          "output_type": "execute_result",
          "data": {
            "text/plain": [
              "Text(0, 0.5, 'count')"
            ]
          },
          "metadata": {
            "tags": []
          },
          "execution_count": 258
        },
        {
          "output_type": "display_data",
          "data": {
            "image/png": "[encoded data removed]",
            "text/plain": [
              "<Figure size 432x288 with 1 Axes>"
            ]
          },
          "metadata": {
            "tags": []
          }
        }
      ]
    },
    {
      "cell_type": "markdown",
      "metadata": {
        "id": "0xVuU_j0aySP",
        "colab_type": "text"
      },
      "source": [
        "### [Bar Plot] for the Device Type of Users\n",
        "We can notice that the majority of the users use desktop to access Airbnb site, more over we can notice the dominance of Apple devices (Mac, iPhone and iPad).\n",
        "Simillar insights can be noticed about the devices used by the users who booked on Airbnb. The dominance of Apple devices though they are known for their high price, gives a good insight about the financial states of the real travelers and Airbnb users."
      ]
    },
    {
      "cell_type": "code",
      "metadata": {
        "id": "0nN3XSzm-Kc0",
        "colab_type": "code",
        "outputId": "a5c9428f-c51b-47b8-a0f6-b452a311b7ea",
        "colab": {
          "base_uri": "https://localhost:8080/",
          "height": 0
        }
      },
      "source": [
        "train['first_device_type'].value_counts().plot(kind='bar')\n",
        "plt.xlabel('first_device_type')\n",
        "plt.ylabel('count')"
      ],
      "execution_count": 259,
      "outputs": [
        {
          "output_type": "execute_result",
          "data": {
            "text/plain": [
              "Text(0, 0.5, 'count')"
            ]
          },
          "metadata": {
            "tags": []
          },
          "execution_count": 259
        },
        {
          "output_type": "display_data",
          "data": {
            "image/png": "[encoded data removed]",
            "text/plain": [
              "<Figure size 432x288 with 1 Axes>"
            ]
          },
          "metadata": {
            "tags": []
          }
        }
      ]
    },
    {
      "cell_type": "code",
      "metadata": {
        "id": "wPEIapYfjrCc",
        "colab_type": "code",
        "outputId": "690d9db5-7625-425b-cad4-bfc1784f9931",
        "colab": {
          "base_uri": "https://localhost:8080/",
          "height": 0
        }
      },
      "source": [
        "booked_users['first_device_type'].value_counts().plot(kind='bar')\n",
        "plt.xlabel('first_device_type')\n",
        "plt.ylabel('count')"
      ],
      "execution_count": 260,
      "outputs": [
        {
          "output_type": "execute_result",
          "data": {
            "text/plain": [
              "Text(0, 0.5, 'count')"
            ]
          },
          "metadata": {
            "tags": []
          },
          "execution_count": 260
        },
        {
          "output_type": "display_data",
          "data": {
            "image/png": "[encoded data removed]",
            "text/plain": [
              "<Figure size 432x288 with 1 Axes>"
            ]
          },
          "metadata": {
            "tags": []
          }
        }
      ]
    },
    {
      "cell_type": "markdown",
      "metadata": {
        "id": "CaOb2l_idARR",
        "colab_type": "text"
      },
      "source": [
        "### [Bar Plot] for the browser/signup app\n",
        "Since in the previous barplot we noticed the dominance of desktop devices among users, it is logical to find the web is dominant also here with a large percentage (over 70,000 from ~215,000).\n",
        "From this we can concluded the need to maintain and continously update the desktop website of Airbnb which is more used by the users."
      ]
    },
    {
      "cell_type": "code",
      "metadata": {
        "id": "Ip5RAIgwr_gs",
        "colab_type": "code",
        "outputId": "c940fc54-6e4f-4c39-dc09-947f7985dd05",
        "colab": {
          "base_uri": "https://localhost:8080/",
          "height": 0
        }
      },
      "source": [
        "plt.figure(figsize=(10,5))\n",
        "booked_users['signup_app'].value_counts().plot(kind='bar')\n",
        "plt.xlabel('signup_app')\n",
        "plt.ylabel('count')"
      ],
      "execution_count": 261,
      "outputs": [
        {
          "output_type": "execute_result",
          "data": {
            "text/plain": [
              "Text(0, 0.5, 'count')"
            ]
          },
          "metadata": {
            "tags": []
          },
          "execution_count": 261
        },
        {
          "output_type": "display_data",
          "data": {
            "image/png": "[encoded data removed]",
            "text/plain": [
              "<Figure size 720x360 with 1 Axes>"
            ]
          },
          "metadata": {
            "tags": []
          }
        }
      ]
    },
    {
      "cell_type": "markdown",
      "metadata": {
        "id": "K8zEeOL6dr8K",
        "colab_type": "text"
      },
      "source": [
        "### [Bar Plot] for the First Browser for Users\n",
        "We can notice also the dominance of desktop browsers which also makes sense and follows the previous analysis."
      ]
    },
    {
      "cell_type": "code",
      "metadata": {
        "id": "ymqOWsdxkTOR",
        "colab_type": "code",
        "outputId": "2eac343d-8841-46a8-b6cf-f6249780475f",
        "colab": {
          "base_uri": "https://localhost:8080/",
          "height": 0
        }
      },
      "source": [
        "plt.figure(figsize=(15,5))\n",
        "booked_users['first_browser'].value_counts().plot(kind='bar')\n",
        "plt.xlabel('first_browser')\n",
        "plt.ylabel('count')\n"
      ],
      "execution_count": 262,
      "outputs": [
        {
          "output_type": "execute_result",
          "data": {
            "text/plain": [
              "Text(0, 0.5, 'count')"
            ]
          },
          "metadata": {
            "tags": []
          },
          "execution_count": 262
        },
        {
          "output_type": "display_data",
          "data": {
            "image/png": "[encoded data removed]",
            "text/plain": [
              "<Figure size 1080x360 with 1 Axes>"
            ]
          },
          "metadata": {
            "tags": []
          }
        }
      ]
    },
    {
      "cell_type": "markdown",
      "metadata": {
        "id": "LDuspKIph4oP",
        "colab_type": "text"
      },
      "source": [
        "### [Bar Plot] for the Signup Method used by the Users\n",
        "It is noticed that more than half the users prefered to use the basic signup method (i.e. using email and password registeration) followed by Facebook. It is quite strange that almost no users used Google for signup!\n",
        "This maybe because the Google authentication system that may be more complicated on a simple user!"
      ]
    },
    {
      "cell_type": "code",
      "metadata": {
        "id": "EtMLfscKvImu",
        "colab_type": "code",
        "outputId": "96db16c0-cfb9-49dc-d2b6-0928ad71cc74",
        "colab": {
          "base_uri": "https://localhost:8080/",
          "height": 0
        }
      },
      "source": [
        "plt.figure(figsize=(10,5))\n",
        "att = 'signup_method'\n",
        "train[att].value_counts().plot(kind='bar')\n",
        "plt.xlabel(att)\n",
        "plt.ylabel('count')"
      ],
      "execution_count": 263,
      "outputs": [
        {
          "output_type": "execute_result",
          "data": {
            "text/plain": [
              "Text(0, 0.5, 'count')"
            ]
          },
          "metadata": {
            "tags": []
          },
          "execution_count": 263
        },
        {
          "output_type": "display_data",
          "data": {
            "image/png": "[encoded data removed]",
            "text/plain": [
              "<Figure size 720x360 with 1 Axes>"
            ]
          },
          "metadata": {
            "tags": []
          }
        }
      ]
    },
    {
      "cell_type": "markdown",
      "metadata": {
        "id": "o1eeow8hi1wb",
        "colab_type": "text"
      },
      "source": [
        "### [Box Plot] for the Age of Users in the Desitination Countries\n",
        "We can easily notice that there is no large difference in the users' ages that are visiting each country."
      ]
    },
    {
      "cell_type": "code",
      "metadata": {
        "id": "5hMiw5tNaomr",
        "colab_type": "code",
        "outputId": "2ecfa515-a07b-4e31-e890-b5d6c3685527",
        "colab": {
          "base_uri": "https://localhost:8080/",
          "height": 0
        }
      },
      "source": [
        "plt.figure(figsize=(20,7))\n",
        "sns.boxplot(y='age' , x='country_destination',data=booked_users)\n",
        "plt.xlabel('Destination Country box plot')\n",
        "plt.ylabel('Age of Users')"
      ],
      "execution_count": 264,
      "outputs": [
        {
          "output_type": "execute_result",
          "data": {
            "text/plain": [
              "Text(0, 0.5, 'Age of Users')"
            ]
          },
          "metadata": {
            "tags": []
          },
          "execution_count": 264
        },
        {
          "output_type": "display_data",
          "data": {
            "image/png": "[encoded data removed]",
            "text/plain": [
              "<Figure size 1440x504 with 1 Axes>"
            ]
          },
          "metadata": {
            "tags": []
          }
        }
      ]
    },
    {
      "cell_type": "markdown",
      "metadata": {
        "id": "3P43xRJAgAo5",
        "colab_type": "text"
      },
      "source": [
        "### [Bar Plot] for the Number of New Users that Register on Airbnb each Year\n",
        "We can notice the exponential increase of users from year to year (although there is a slight decrease in year 2014). This gives a good insight about the development of Airbnb platform and the evolution of marketing and advertising.\n",
        "The drop at year 2014 is not a big drop but it must be taken into concideration."
      ]
    },
    {
      "cell_type": "code",
      "metadata": {
        "id": "L9QnDQpw217t",
        "colab_type": "code",
        "outputId": "5c6dbc6f-35c5-4abd-a891-838f02b03c49",
        "colab": {
          "base_uri": "https://localhost:8080/",
          "height": 0
        }
      },
      "source": [
        "plt.figure(figsize=(10,5))\n",
        "year_account_created['date_account_created'].value_counts().sort_index().plot(kind='bar')\n",
        "plt.xlabel('year')\n",
        "plt.ylabel('count')"
      ],
      "execution_count": 265,
      "outputs": [
        {
          "output_type": "execute_result",
          "data": {
            "text/plain": [
              "Text(0, 0.5, 'count')"
            ]
          },
          "metadata": {
            "tags": []
          },
          "execution_count": 265
        },
        {
          "output_type": "display_data",
          "data": {
            "image/png": "[encoded data removed]",
            "text/plain": [
              "<Figure size 720x360 with 1 Axes>"
            ]
          },
          "metadata": {
            "tags": []
          }
        }
      ]
    },
    {
      "cell_type": "markdown",
      "metadata": {
        "id": "eTRw3mkYrxsH",
        "colab_type": "text"
      },
      "source": [
        "## Data Cleaning and Feature Selection"
      ]
    },
    {
      "cell_type": "code",
      "metadata": {
        "id": "Ihi5Cdm3M8xH",
        "colab_type": "code",
        "colab": {}
      },
      "source": [
        "labels_train = train['country_destination'].values\n",
        "train_final = train.drop(['id', 'country_destination', 'date_first_booking'], axis=1)\n",
        "test_final = test.drop(['id', 'date_first_booking'], axis=1)\n",
        "test_ids = test['id'].to_frame()"
      ],
      "execution_count": 0,
      "outputs": []
    },
    {
      "cell_type": "code",
      "metadata": {
        "id": "SXm2gszqzNCO",
        "colab_type": "code",
        "colab": {}
      },
      "source": [
        "train_final = replace_nan(train_final)\n",
        "test_final = replace_nan(test_final)\n",
        "string_attributes = ['gender', 'signup_method', 'language', 'affiliate_channel', 'affiliate_provider', \n",
        "                     'first_affiliate_tracked', 'signup_app', 'first_device_type', 'first_browser']\n",
        "train_encoded = convert_categorical(train_final, string_attributes)\n",
        "test_encoded = convert_categorical(test_final, string_attributes)\n",
        "\n",
        "train_encoded = split_date_account_created(train, train_encoded)\n",
        "test_encoded = split_date_account_created(test, test_encoded)"
      ],
      "execution_count": 0,
      "outputs": []
    },
    {
      "cell_type": "code",
      "metadata": {
        "id": "f7NEtYzr46-O",
        "colab_type": "code",
        "colab": {}
      },
      "source": [
        "# print(train.columns)\n",
        "# print(train_encoded.columns)"
      ],
      "execution_count": 0,
      "outputs": []
    },
    {
      "cell_type": "code",
      "metadata": {
        "id": "t22OfZbWINfN",
        "colab_type": "code",
        "colab": {}
      },
      "source": [
        "scaler = StandardScaler() \n",
        "data_train = scaler.fit_transform(train_encoded)\n",
        "data_test = scaler.fit_transform(test_encoded)  \n",
        "knn = KNeighborsClassifier(n_neighbors = 100)\n",
        "knn.fit(data_train, labels_train)\n",
        "pred = knn.predict(data_test)"
      ],
      "execution_count": 0,
      "outputs": []
    },
    {
      "cell_type": "code",
      "metadata": {
        "id": "2_0KWiyNIuqv",
        "colab_type": "code",
        "colab": {}
      },
      "source": [
        "# clf=tree.DecisionTreeClassifier()\n",
        "# clf.fit(train_encoded, labels_train)\n",
        "# pred=clf.predict(test_encoded)"
      ],
      "execution_count": 0,
      "outputs": []
    },
    {
      "cell_type": "code",
      "metadata": {
        "id": "debh7kiCdOVU",
        "colab_type": "code",
        "colab": {}
      },
      "source": [
        "pred = pd.DataFrame(pred)\n",
        "res = pd.concat([test_ids, pred], axis=1)\n",
        "res.columns = ['id', 'country']"
      ],
      "execution_count": 0,
      "outputs": []
    },
    {
      "cell_type": "code",
      "metadata": {
        "id": "bEj1HS_gExC3",
        "colab_type": "code",
        "colab": {}
      },
      "source": [
        "res.to_csv('knn_results.csv',index=False)\n",
        "files.download('knn_results.csv')"
      ],
      "execution_count": 0,
      "outputs": []
    }
  ]
}